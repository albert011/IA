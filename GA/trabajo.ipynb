{
 "cells": [
  {
   "cell_type": "markdown",
   "metadata": {},
   "source": [
    "#Selección de atributos en modelos predictivos\n",
    "##Introducción\n",
    "El objetivo de este capítulo es explicar cómo seleccionar los atributos para el modelo predictivo.\n",
    "Para ello, se utilizarán algoritmos genéticos para la selección de atributos dado un método de clasificación.\n",
    "Los métodos de clasificación que se utilizarán en este capítulo son:\t\n",
    "* **K-Nearest Neighbors**: Un algoritmo de clasificación que utiliza una serie de puntos de entrenamiento para clasificar un nuevo punto.\n",
    "* **Decision Tree**: Un algoritmo de clasificación que utiliza un árbol de decisión para clasificar un nuevo punto.\n",
    "* **Naive Bayes**: Un algoritmo de clasificación que utiliza una función de probabilidad para clasificar un nuevo punto.\n",
    "\n"
   ]
  },
  {
   "cell_type": "code",
   "execution_count": 4,
   "metadata": {},
   "outputs": [
    {
     "ename": "ModuleNotFoundError",
     "evalue": "No module named 'sklearn.neighbors.kneighbors_classifier'",
     "output_type": "error",
     "traceback": [
      "\u001b[1;31m---------------------------------------------------------------------------\u001b[0m",
      "\u001b[1;31mModuleNotFoundError\u001b[0m                       Traceback (most recent call last)",
      "\u001b[1;32mc:\\Users\\belat\\Desktop\\IA\\GA\\trabajo.ipynb Cell 2'\u001b[0m in \u001b[0;36m<cell line: 1>\u001b[1;34m()\u001b[0m\n\u001b[1;32m----> <a href='vscode-notebook-cell:/c%3A/Users/belat/Desktop/IA/GA/trabajo.ipynb#ch0000001?line=0'>1</a>\u001b[0m \u001b[39mimport\u001b[39;00m \u001b[39msklearn\u001b[39;00m\u001b[39m.\u001b[39;00m\u001b[39mneighbors\u001b[39;00m\u001b[39m.\u001b[39;00m\u001b[39mkneighbors_classifier\u001b[39;00m \u001b[39mas\u001b[39;00m \u001b[39mknc\u001b[39;00m\n\u001b[0;32m      <a href='vscode-notebook-cell:/c%3A/Users/belat/Desktop/IA/GA/trabajo.ipynb#ch0000001?line=1'>2</a>\u001b[0m \u001b[39mimport\u001b[39;00m \u001b[39msklearn\u001b[39;00m\u001b[39m.\u001b[39;00m\u001b[39mmetrics\u001b[39;00m \u001b[39mas\u001b[39;00m \u001b[39mmetrics\u001b[39;00m\n\u001b[0;32m      <a href='vscode-notebook-cell:/c%3A/Users/belat/Desktop/IA/GA/trabajo.ipynb#ch0000001?line=2'>3</a>\u001b[0m \u001b[39mimport\u001b[39;00m \u001b[39msklearn\u001b[39;00m\u001b[39m.\u001b[39;00m\u001b[39mtree\u001b[39;00m\u001b[39m.\u001b[39;00m\u001b[39mdecisiontree\u001b[39;00m \u001b[39mas\u001b[39;00m \u001b[39mdt\u001b[39;00m\n",
      "\u001b[1;31mModuleNotFoundError\u001b[0m: No module named 'sklearn.neighbors.kneighbors_classifier'"
     ]
    }
   ],
   "source": [
    "import sklearn.neighbors.kneighbors_classifier as knc\n",
    "import sklearn.metrics as metrics\n",
    "import sklearn.tree.decisiontree as dt\n",
    "import sklearn.naive_bayes as nb\n",
    "\n",
    "\n",
    "def knn(X, y, k):\n",
    "    knc = knc.KNeighborsClassifier(k)\n",
    "    knc.fit(X, y)\n",
    "    return knc\n",
    "\n",
    "def decision_tree(X, y):\n",
    "    dtc = dt.DecisionTreeClassifier()\n",
    "    dtc.fit(X, y)\n",
    "    return dtc\n",
    "\n",
    "def naive_bayes(X, y):\n",
    "    nbc = nb.GaussianNB()\n",
    "    nbc.fit(X, y)\n",
    "    return nbc\n",
    "\n",
    "\n"
   ]
  },
  {
   "cell_type": "markdown",
   "metadata": {},
   "source": [
    "##Algoritmos genéticos\n",
    "Los algoritmos genéticos son una forma de seleccionar los atributos de un modelo predictivo, en base a una función de evaluación o del inglés fitness function. Esta función define la aptitud de un cromosoma para ser seleccionado. Los cromosomas son posibles soluciones del problema en cuestión. En nuestro caso, los cromosomas serán los atributos a usar en el modelo predictivo.\n",
    "\n",
    "El algoritmo genético simple sigue la siguiente estructura:\n",
    "*Begin* /Comienzo del algoritmo genético simple/\n",
    "Generar una población inicial de cromosomas.\n",
    "Evaluar la población inicial.\n",
    "*Reproducción* /Reproducción/\n",
    "While (NOT condición de parada)\n",
    "    *Begin* /Comienzo de la reproducción/\n",
    "    For Tamaño de la población / 2\n",
    "        *Begin* /Comienzo del ciclo reproductivo/\n",
    "        Seleccionar dos cromosomas de la población.\n",
    "        Cruza los cromosomas seleccionados con cierto porcentaje de probabilidad y genera dos nuevos cromosomas.\n",
    "        Muta los cromosomas generados con cierto porcentaje de probabilidad.\n",
    "        Evalua los nuevos cromosomas.\n",
    "        Inserta los nuevos cromosomas en la población siguiente.\n",
    "        *End* /Fin del ciclo reproductivo/\n",
    "    *End* /Fin de la reproducción/\n",
    "    if (condición de parada)\n",
    "        *End* /Fin del algoritmo genético simple/\n",
    "*End* /Fin del algoritmo genético simple/\n",
    "\n",
    "En nuestro caso, la función de evaluación será la precisión del modelo predictivo seleccionado. Para implementar el algoritmo genético simple, se utilizará una función del framework scikit-learn pensada precisamente para resolver algoritmos genéticos."
   ]
  },
  {
   "cell_type": "code",
   "execution_count": 10,
   "metadata": {},
   "outputs": [
    {
     "ename": "ModuleNotFoundError",
     "evalue": "No module named 'sklearngenetic'",
     "output_type": "error",
     "traceback": [
      "\u001b[1;31m---------------------------------------------------------------------------\u001b[0m",
      "\u001b[1;31mModuleNotFoundError\u001b[0m                       Traceback (most recent call last)",
      "\u001b[1;32mc:\\Users\\belat\\Desktop\\IA\\GA\\trabajo.ipynb Cell 4'\u001b[0m in \u001b[0;36m<cell line: 1>\u001b[1;34m()\u001b[0m\n\u001b[1;32m----> <a href='vscode-notebook-cell:/c%3A/Users/belat/Desktop/IA/GA/trabajo.ipynb#ch0000003?line=0'>1</a>\u001b[0m \u001b[39mimport\u001b[39;00m \u001b[39msklearngenetic\u001b[39;00m\u001b[39m.\u001b[39;00m\u001b[39mGenetic_Selection\u001b[39;00m\u001b[39m.\u001b[39;00m\u001b[39mGeneticSelectionCV\u001b[39;00m \u001b[39mas\u001b[39;00m \u001b[39mgscv\u001b[39;00m\n\u001b[0;32m      <a href='vscode-notebook-cell:/c%3A/Users/belat/Desktop/IA/GA/trabajo.ipynb#ch0000003?line=1'>2</a>\u001b[0m \u001b[39mimport\u001b[39;00m \u001b[39mnumpy\u001b[39;00m \u001b[39mas\u001b[39;00m \u001b[39mnp\u001b[39;00m\n\u001b[0;32m      <a href='vscode-notebook-cell:/c%3A/Users/belat/Desktop/IA/GA/trabajo.ipynb#ch0000003?line=2'>3</a>\u001b[0m \u001b[39mimport\u001b[39;00m \u001b[39mpandas\u001b[39;00m \u001b[39mas\u001b[39;00m \u001b[39mpd\u001b[39;00m\n",
      "\u001b[1;31mModuleNotFoundError\u001b[0m: No module named 'sklearngenetic'"
     ]
    }
   ],
   "source": [
    "import sklearngenetic.Genetic_Selection.GeneticSelectionCV as gscv\n",
    "import numpy as np\n",
    "import pandas as pd\n",
    "import matplotlib.pyplot as plt\n",
    "\n",
    "def load_data(path):\n",
    "    data = pd.read_csv(path)\n",
    "    return data\n",
    "\n",
    "def select_attributes(data, model):\n",
    "    #Seleccionar atributo de clasificación, dado los datos de entrada que se encuentra en la ultima columna de nuestros datos\n",
    "    target = data.columns[-1]\n",
    "    x = data.drop([target], axis=1)\n",
    "    y = data[target].astype(float)\n",
    "    solver = gscv.GeneticSelectionCV(model, scoring='accuracy', n_jobs=-1)\n",
    "    solver.fit(x, y)\n",
    "    return x.columns[solver.support_]\n",
    "\n",
    "\n",
    "cancer = load_data('conjuntos_de_datos/BreastCancerDataset.csv')\n",
    "model = dt.DecisionTreeClassifier()\n",
    "cancer_attributes = select_attributes(cancer, model)\n",
    "print(cancer_attributes)"
   ]
  }
 ],
 "metadata": {
  "interpreter": {
   "hash": "8576f2d0072ff4814c244887c7775cacea527ccc693ecab3063c2214f07abc81"
  },
  "kernelspec": {
   "display_name": "Python 3.10.1 64-bit",
   "language": "python",
   "name": "python3"
  },
  "language_info": {
   "codemirror_mode": {
    "name": "ipython",
    "version": 3
   },
   "file_extension": ".py",
   "mimetype": "text/x-python",
   "name": "python",
   "nbconvert_exporter": "python",
   "pygments_lexer": "ipython3",
   "version": "3.10.1"
  },
  "orig_nbformat": 4
 },
 "nbformat": 4,
 "nbformat_minor": 2
}
